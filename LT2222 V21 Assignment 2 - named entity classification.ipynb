{
 "cells": [
  {
   "cell_type": "markdown",
   "metadata": {},
   "source": [
    "## Introduction\n",
    "\n",
    "In this assignment, you are going to build a classifier for named entities from the Groningen Meaning Bank corpus.  Named entity recognition (NER) takes noun phrases from a text and identifies whether they are persons, organizations, and so on.  You will be using the Groningen Meaning Bank named entity corpus available on mltgpu at `/scratch/lt2222-v21-resources/GMB_dataset.txt`.  In this version of the task, you will assume we know *that* something is a named entity, and instead use multi-class classification to identify its type.  So you will be doing named entity classification but *not* recognition.\n",
    "\n",
    "The data looks like this: \n",
    "\n",
    "```\n",
    "3996    182.0   Nicole  NNP     B-per\n",
    "3997    182.0   Ritchie NNP     I-per\n",
    "3998    182.0   is      VBZ     O\n",
    "3999    182.0   pregnant        JJ      O\n",
    "4000    182.0   .       .       O\n",
    "4001    183.0   Speaking        VBG     O\n",
    "4002    183.0   to      TO      O\n",
    "4003    183.0   ABC     NNP     B-org\n",
    "4004    183.0   News    NNP     I-org\n",
    "4005    183.0   interviewer     NN      O\n",
    "4006    183.0   Dianne  NNP     B-per\n",
    "4007    183.0   Sawyer  NNP     I-per\n",
    "4008    183.0   ,       ,       O\n",
    "4009    183.0   the     DT      O\n",
    "4010    183.0   25-year-old     JJ      O\n",
    "4011    183.0   co-star NN      O\n",
    "4012    183.0   of      IN      O\n",
    "4013    183.0   TV      NN      O\n",
    "4014    183.0   's      POS     O\n",
    "4015    183.0   The     DT      B-art\n",
    "4016    183.0   Simple  NNP     I-art\n",
    "4017    183.0   Life    NNP     I-art\n",
    "4018    183.0   said    VBD     O\n",
    "4019    183.0   she     PRP     O\n",
    "4020    183.0   is      VBZ     O\n",
    "4021    183.0   almost  RB      O\n",
    "4022    183.0   four    CD      O\n",
    "4023    183.0   months  NNS     O\n",
    "4024    183.0   along   IN      O\n",
    "4025    183.0   in      IN      O\n",
    "4026    183.0   her     PRP$    O\n",
    "4027    183.0   pregnancy       NN      O\n",
    "4028    183.0   .       .       O\n",
    "```\n",
    "\n",
    "The first column is the line number.  The second column is a sentence number (for some reason given as a float; ignore it).  The third column is the word.  The fourth column is a part of speech (POS) tag in Penn Treebank format.  The last column contains the named entity annotation. \n",
    "\n",
    "The annotation works like this.  Every `O` just means that the row does not represent a named entity.  `B-xyx` means the first word in a named entity with type `xyx`. `I-xyz` means the second and later words of an `xyz` entity, if there are any.  That means that every time there's a `B` or an `I`, there's a named entity.  \n",
    "\n",
    "The entity types in the corpus are `art`,\n",
    "`eve`,\n",
    "`geo`,\n",
    "`gpe`,\n",
    "`nat`,\n",
    "`org`,\n",
    "`per`,\n",
    "and `tim`\n",
    "\n",
    "Your task is the following.\n",
    "1. To preprocess the text (lowercase and lemmatize; punctuation can be preserved as it gets its own rows).\n",
    "2. To create instances from every from every identified named entity in the text with the type of the NE as the class, and a surrounding context of five words on either side as the features.  \n",
    "3. To generate vectors and split the instances into training and testing datasets at random.\n",
    "4. To train a support vector machine (via `sklearn.svm.LinearSVC`) for classifying the NERs.\n",
    "5. To evaluate the performance of the classifier.\n",
    "\n",
    "You will do this by modifying a separate file containing functions that will be called from this notebook as a module.  You can modify this notebook for testing purposes but please only submit the original.  You will document everything in Markdown in README.md and submit a GitHub repository URL.\n",
    "\n",
    "This assignment is due on **Tuesday, 2021 March 9 at 23:59**.  It has **25 points** and **7 bonus points**."
   ]
  },
  {
   "cell_type": "code",
   "execution_count": 1,
   "metadata": {},
   "outputs": [],
   "source": [
    "import a2\n",
    "from sklearn.svm import LinearSVC"
   ]
  },
  {
   "cell_type": "code",
   "execution_count": 2,
   "metadata": {},
   "outputs": [],
   "source": [
    "gmbfile = open('/scratch/lt2222-v21-resources/GMB_dataset.txt', \"r\")"
   ]
  },
  {
   "cell_type": "markdown",
   "metadata": {},
   "source": [
    "## Part 1 - preprocessing (3 points)"
   ]
  },
  {
   "cell_type": "markdown",
   "metadata": {},
   "source": [
    "See step 1 above.  The data is coming to you as an unused file handle object.  You can return the data in any indexable form you like.  You can also choose to remove infrequent or uninformative words to reduce the size of the feature space. (Document this in README.md.)"
   ]
  },
  {
   "cell_type": "code",
   "execution_count": 3,
   "metadata": {},
   "outputs": [
    {
     "data": {
      "text/plain": [
       "['19\\t1.0\\ttroops\\tNNS\\tO\\n',\n",
       " '20\\t1.0\\tfrom\\tIN\\tO\\n',\n",
       " '21\\t1.0\\tthat\\tDT\\tO\\n',\n",
       " '22\\t1.0\\tcountry\\tNN\\tO\\n',\n",
       " '23\\t1.0\\t.\\t.\\tO\\n',\n",
       " '24\\t2.0\\tFamilies\\tNNS\\tO\\n',\n",
       " '25\\t2.0\\tof\\tIN\\tO\\n',\n",
       " '26\\t2.0\\tsoldiers\\tNNS\\tO\\n',\n",
       " '27\\t2.0\\tkilled\\tVBN\\tO\\n',\n",
       " '28\\t2.0\\tin\\tIN\\tO\\n',\n",
       " '29\\t2.0\\tthe\\tDT\\tO\\n',\n",
       " '30\\t2.0\\tconflict\\tNN\\tO\\n',\n",
       " '31\\t2.0\\tjoined\\tVBD\\tO\\n',\n",
       " '32\\t2.0\\tthe\\tDT\\tO\\n',\n",
       " '33\\t2.0\\tprotesters\\tNNS\\tO\\n',\n",
       " '34\\t2.0\\twho\\tWP\\tO\\n',\n",
       " '35\\t2.0\\tcarried\\tVBD\\tO\\n',\n",
       " '36\\t2.0\\tbanners\\tNNS\\tO\\n',\n",
       " '37\\t2.0\\twith\\tIN\\tO\\n',\n",
       " '38\\t2.0\\tsuch\\tJJ\\tO\\n']"
      ]
     },
     "execution_count": 3,
     "metadata": {},
     "output_type": "execute_result"
    }
   ],
   "source": [
    "inputdata = a2.preprocess(gmbfile)\n",
    "gmbfile.close()\n",
    "inputdata[20:40]"
   ]
  },
  {
   "cell_type": "markdown",
   "metadata": {},
   "source": [
    "## Part 2 - Creating instances (7 points)"
   ]
  },
  {
   "cell_type": "markdown",
   "metadata": {},
   "source": [
    "Do step 2 above.  You will create a collection of Instance objects.  Remember to consider the case where the NE is at the beginning of a sentence or at the end, or close to either (you can create a special start token for that).  You can also start counting from before the `B` end of the NE mention and after the last `I` of the NE mention. That means that the instances should include things before and after the named entity mention, but not the named entity text itself."
   ]
  },
  {
   "cell_type": "code",
   "execution_count": 4,
   "metadata": {},
   "outputs": [],
   "source": [
    "instances = a2.create_instances(inputdata)"
   ]
  },
  {
   "cell_type": "code",
   "execution_count": 5,
   "metadata": {},
   "outputs": [
    {
     "data": {
      "text/plain": [
       "[Class: eve Features: ['something', 'something', 'something', 'something'],\n",
       " Class: org Features: ['something', 'something'],\n",
       " Class: gpe Features: ['something', 'something', 'something', 'something', 'something', 'something', 'something'],\n",
       " Class: per Features: ['something', 'something'],\n",
       " Class: tim Features: ['something', 'something', 'something', 'something', 'something'],\n",
       " Class: gpe Features: ['something', 'something', 'something', 'something', 'something', 'something'],\n",
       " Class: per Features: ['something', 'something', 'something', 'something'],\n",
       " Class: org Features: ['something', 'something', 'something', 'something', 'something', 'something', 'something'],\n",
       " Class: per Features: ['something'],\n",
       " Class: geo Features: ['something', 'something', 'something', 'something', 'something', 'something', 'something', 'something', 'something', 'something'],\n",
       " Class: per Features: ['something', 'something', 'something', 'something', 'something', 'something', 'something'],\n",
       " Class: per Features: ['something'],\n",
       " Class: tim Features: ['something'],\n",
       " Class: per Features: ['something', 'something', 'something', 'something', 'something', 'something', 'something'],\n",
       " Class: per Features: ['something', 'something', 'something', 'something', 'something', 'something', 'something', 'something', 'something', 'something'],\n",
       " Class: art Features: ['something', 'something', 'something', 'something', 'something', 'something', 'something', 'something', 'something'],\n",
       " Class: eve Features: ['something', 'something', 'something', 'something', 'something', 'something'],\n",
       " Class: gpe Features: ['something', 'something', 'something'],\n",
       " Class: gpe Features: ['something', 'something', 'something', 'something'],\n",
       " Class: tim Features: ['something', 'something', 'something', 'something']]"
      ]
     },
     "execution_count": 5,
     "metadata": {},
     "output_type": "execute_result"
    }
   ],
   "source": [
    "instances[20:40]"
   ]
  },
  {
   "cell_type": "markdown",
   "metadata": {},
   "source": [
    "## Part 3 - Creating the table and splitting (10 points)\n",
    "\n",
    "Here you're going to write the functions that create a data table with \"document\" vectors representing each instance and split the table into training and testing sets and random with an 80%/20% train/test split."
   ]
  },
  {
   "cell_type": "code",
   "execution_count": 6,
   "metadata": {},
   "outputs": [
    {
     "data": {
      "text/html": [
       "<div>\n",
       "<style scoped>\n",
       "    .dataframe tbody tr th:only-of-type {\n",
       "        vertical-align: middle;\n",
       "    }\n",
       "\n",
       "    .dataframe tbody tr th {\n",
       "        vertical-align: top;\n",
       "    }\n",
       "\n",
       "    .dataframe thead th {\n",
       "        text-align: right;\n",
       "    }\n",
       "</style>\n",
       "<table border=\"1\" class=\"dataframe\">\n",
       "  <thead>\n",
       "    <tr style=\"text-align: right;\">\n",
       "      <th></th>\n",
       "      <th>class</th>\n",
       "      <th>0</th>\n",
       "      <th>1</th>\n",
       "      <th>2</th>\n",
       "      <th>3</th>\n",
       "      <th>4</th>\n",
       "      <th>5</th>\n",
       "      <th>6</th>\n",
       "      <th>7</th>\n",
       "      <th>8</th>\n",
       "      <th>...</th>\n",
       "      <th>2990</th>\n",
       "      <th>2991</th>\n",
       "      <th>2992</th>\n",
       "      <th>2993</th>\n",
       "      <th>2994</th>\n",
       "      <th>2995</th>\n",
       "      <th>2996</th>\n",
       "      <th>2997</th>\n",
       "      <th>2998</th>\n",
       "      <th>2999</th>\n",
       "    </tr>\n",
       "  </thead>\n",
       "  <tbody>\n",
       "    <tr>\n",
       "      <th>20</th>\n",
       "      <td>eve</td>\n",
       "      <td>0.655986</td>\n",
       "      <td>0.415185</td>\n",
       "      <td>0.059694</td>\n",
       "      <td>0.707719</td>\n",
       "      <td>0.322907</td>\n",
       "      <td>0.194757</td>\n",
       "      <td>0.277327</td>\n",
       "      <td>0.895893</td>\n",
       "      <td>0.017205</td>\n",
       "      <td>...</td>\n",
       "      <td>0.974347</td>\n",
       "      <td>0.858885</td>\n",
       "      <td>0.995533</td>\n",
       "      <td>0.372458</td>\n",
       "      <td>0.687126</td>\n",
       "      <td>0.187404</td>\n",
       "      <td>0.434756</td>\n",
       "      <td>0.832648</td>\n",
       "      <td>0.287794</td>\n",
       "      <td>0.477700</td>\n",
       "    </tr>\n",
       "    <tr>\n",
       "      <th>21</th>\n",
       "      <td>nat</td>\n",
       "      <td>0.303020</td>\n",
       "      <td>0.621403</td>\n",
       "      <td>0.818070</td>\n",
       "      <td>0.583170</td>\n",
       "      <td>0.481382</td>\n",
       "      <td>0.134504</td>\n",
       "      <td>0.760761</td>\n",
       "      <td>0.556372</td>\n",
       "      <td>0.559527</td>\n",
       "      <td>...</td>\n",
       "      <td>0.023771</td>\n",
       "      <td>0.696146</td>\n",
       "      <td>0.326242</td>\n",
       "      <td>0.861926</td>\n",
       "      <td>0.268099</td>\n",
       "      <td>0.309540</td>\n",
       "      <td>0.724976</td>\n",
       "      <td>0.554450</td>\n",
       "      <td>0.737834</td>\n",
       "      <td>0.213573</td>\n",
       "    </tr>\n",
       "    <tr>\n",
       "      <th>22</th>\n",
       "      <td>gpe</td>\n",
       "      <td>0.842124</td>\n",
       "      <td>0.947598</td>\n",
       "      <td>0.176131</td>\n",
       "      <td>0.880908</td>\n",
       "      <td>0.947319</td>\n",
       "      <td>0.989095</td>\n",
       "      <td>0.056913</td>\n",
       "      <td>0.599464</td>\n",
       "      <td>0.493132</td>\n",
       "      <td>...</td>\n",
       "      <td>0.988192</td>\n",
       "      <td>0.923232</td>\n",
       "      <td>0.395368</td>\n",
       "      <td>0.273921</td>\n",
       "      <td>0.160180</td>\n",
       "      <td>0.096286</td>\n",
       "      <td>0.807849</td>\n",
       "      <td>0.662150</td>\n",
       "      <td>0.631081</td>\n",
       "      <td>0.549078</td>\n",
       "    </tr>\n",
       "    <tr>\n",
       "      <th>23</th>\n",
       "      <td>geo</td>\n",
       "      <td>0.738763</td>\n",
       "      <td>0.548412</td>\n",
       "      <td>0.324128</td>\n",
       "      <td>0.481976</td>\n",
       "      <td>0.907487</td>\n",
       "      <td>0.573559</td>\n",
       "      <td>0.441798</td>\n",
       "      <td>0.568445</td>\n",
       "      <td>0.426464</td>\n",
       "      <td>...</td>\n",
       "      <td>0.474025</td>\n",
       "      <td>0.337602</td>\n",
       "      <td>0.646068</td>\n",
       "      <td>0.611336</td>\n",
       "      <td>0.139842</td>\n",
       "      <td>0.171521</td>\n",
       "      <td>0.560293</td>\n",
       "      <td>0.662646</td>\n",
       "      <td>0.948103</td>\n",
       "      <td>0.125349</td>\n",
       "    </tr>\n",
       "    <tr>\n",
       "      <th>24</th>\n",
       "      <td>geo</td>\n",
       "      <td>0.672174</td>\n",
       "      <td>0.462499</td>\n",
       "      <td>0.788121</td>\n",
       "      <td>0.937968</td>\n",
       "      <td>0.077253</td>\n",
       "      <td>0.912724</td>\n",
       "      <td>0.604421</td>\n",
       "      <td>0.520988</td>\n",
       "      <td>0.395650</td>\n",
       "      <td>...</td>\n",
       "      <td>0.349827</td>\n",
       "      <td>0.121361</td>\n",
       "      <td>0.579793</td>\n",
       "      <td>0.424547</td>\n",
       "      <td>0.284203</td>\n",
       "      <td>0.488576</td>\n",
       "      <td>0.021130</td>\n",
       "      <td>0.955238</td>\n",
       "      <td>0.425942</td>\n",
       "      <td>0.934088</td>\n",
       "    </tr>\n",
       "    <tr>\n",
       "      <th>25</th>\n",
       "      <td>org</td>\n",
       "      <td>0.190210</td>\n",
       "      <td>0.396298</td>\n",
       "      <td>0.785996</td>\n",
       "      <td>0.305488</td>\n",
       "      <td>0.869708</td>\n",
       "      <td>0.045089</td>\n",
       "      <td>0.125519</td>\n",
       "      <td>0.671604</td>\n",
       "      <td>0.902194</td>\n",
       "      <td>...</td>\n",
       "      <td>0.833199</td>\n",
       "      <td>0.630202</td>\n",
       "      <td>0.240270</td>\n",
       "      <td>0.084578</td>\n",
       "      <td>0.083816</td>\n",
       "      <td>0.211891</td>\n",
       "      <td>0.745035</td>\n",
       "      <td>0.166060</td>\n",
       "      <td>0.050051</td>\n",
       "      <td>0.350905</td>\n",
       "    </tr>\n",
       "    <tr>\n",
       "      <th>26</th>\n",
       "      <td>org</td>\n",
       "      <td>0.570826</td>\n",
       "      <td>0.530055</td>\n",
       "      <td>0.278830</td>\n",
       "      <td>0.731944</td>\n",
       "      <td>0.787163</td>\n",
       "      <td>0.202206</td>\n",
       "      <td>0.924931</td>\n",
       "      <td>0.592754</td>\n",
       "      <td>0.436697</td>\n",
       "      <td>...</td>\n",
       "      <td>0.848131</td>\n",
       "      <td>0.314189</td>\n",
       "      <td>0.752178</td>\n",
       "      <td>0.656124</td>\n",
       "      <td>0.576766</td>\n",
       "      <td>0.028159</td>\n",
       "      <td>0.692283</td>\n",
       "      <td>0.411886</td>\n",
       "      <td>0.787077</td>\n",
       "      <td>0.093095</td>\n",
       "    </tr>\n",
       "    <tr>\n",
       "      <th>27</th>\n",
       "      <td>nat</td>\n",
       "      <td>0.480336</td>\n",
       "      <td>0.382422</td>\n",
       "      <td>0.490689</td>\n",
       "      <td>0.616319</td>\n",
       "      <td>0.315667</td>\n",
       "      <td>0.476534</td>\n",
       "      <td>0.353519</td>\n",
       "      <td>0.719981</td>\n",
       "      <td>0.770045</td>\n",
       "      <td>...</td>\n",
       "      <td>0.088550</td>\n",
       "      <td>0.939790</td>\n",
       "      <td>0.662498</td>\n",
       "      <td>0.578622</td>\n",
       "      <td>0.440192</td>\n",
       "      <td>0.805044</td>\n",
       "      <td>0.918339</td>\n",
       "      <td>0.600827</td>\n",
       "      <td>0.212466</td>\n",
       "      <td>0.944630</td>\n",
       "    </tr>\n",
       "    <tr>\n",
       "      <th>28</th>\n",
       "      <td>org</td>\n",
       "      <td>0.176863</td>\n",
       "      <td>0.256072</td>\n",
       "      <td>0.391187</td>\n",
       "      <td>0.222540</td>\n",
       "      <td>0.085265</td>\n",
       "      <td>0.462145</td>\n",
       "      <td>0.235633</td>\n",
       "      <td>0.639741</td>\n",
       "      <td>0.742303</td>\n",
       "      <td>...</td>\n",
       "      <td>0.437307</td>\n",
       "      <td>0.301980</td>\n",
       "      <td>0.800389</td>\n",
       "      <td>0.707553</td>\n",
       "      <td>0.107649</td>\n",
       "      <td>0.983342</td>\n",
       "      <td>0.048044</td>\n",
       "      <td>0.172435</td>\n",
       "      <td>0.980198</td>\n",
       "      <td>0.489569</td>\n",
       "    </tr>\n",
       "    <tr>\n",
       "      <th>29</th>\n",
       "      <td>gpe</td>\n",
       "      <td>0.637363</td>\n",
       "      <td>0.771508</td>\n",
       "      <td>0.856566</td>\n",
       "      <td>0.582754</td>\n",
       "      <td>0.858660</td>\n",
       "      <td>0.619299</td>\n",
       "      <td>0.511857</td>\n",
       "      <td>0.655012</td>\n",
       "      <td>0.316246</td>\n",
       "      <td>...</td>\n",
       "      <td>0.800751</td>\n",
       "      <td>0.477166</td>\n",
       "      <td>0.684987</td>\n",
       "      <td>0.625954</td>\n",
       "      <td>0.715216</td>\n",
       "      <td>0.430617</td>\n",
       "      <td>0.683785</td>\n",
       "      <td>0.284774</td>\n",
       "      <td>0.612989</td>\n",
       "      <td>0.547428</td>\n",
       "    </tr>\n",
       "    <tr>\n",
       "      <th>30</th>\n",
       "      <td>art</td>\n",
       "      <td>0.914970</td>\n",
       "      <td>0.497317</td>\n",
       "      <td>0.585519</td>\n",
       "      <td>0.619994</td>\n",
       "      <td>0.833136</td>\n",
       "      <td>0.766630</td>\n",
       "      <td>0.899499</td>\n",
       "      <td>0.893620</td>\n",
       "      <td>0.326748</td>\n",
       "      <td>...</td>\n",
       "      <td>0.390385</td>\n",
       "      <td>0.192215</td>\n",
       "      <td>0.918509</td>\n",
       "      <td>0.936773</td>\n",
       "      <td>0.041708</td>\n",
       "      <td>0.663974</td>\n",
       "      <td>0.692870</td>\n",
       "      <td>0.134851</td>\n",
       "      <td>0.393721</td>\n",
       "      <td>0.707659</td>\n",
       "    </tr>\n",
       "    <tr>\n",
       "      <th>31</th>\n",
       "      <td>org</td>\n",
       "      <td>0.980757</td>\n",
       "      <td>0.769809</td>\n",
       "      <td>0.763190</td>\n",
       "      <td>0.796980</td>\n",
       "      <td>0.087563</td>\n",
       "      <td>0.258236</td>\n",
       "      <td>0.220665</td>\n",
       "      <td>0.316640</td>\n",
       "      <td>0.081058</td>\n",
       "      <td>...</td>\n",
       "      <td>0.963949</td>\n",
       "      <td>0.990990</td>\n",
       "      <td>0.729944</td>\n",
       "      <td>0.103776</td>\n",
       "      <td>0.156355</td>\n",
       "      <td>0.835742</td>\n",
       "      <td>0.140587</td>\n",
       "      <td>0.267371</td>\n",
       "      <td>0.267097</td>\n",
       "      <td>0.702214</td>\n",
       "    </tr>\n",
       "    <tr>\n",
       "      <th>32</th>\n",
       "      <td>per</td>\n",
       "      <td>0.462769</td>\n",
       "      <td>0.527578</td>\n",
       "      <td>0.275948</td>\n",
       "      <td>0.926038</td>\n",
       "      <td>0.622639</td>\n",
       "      <td>0.734470</td>\n",
       "      <td>0.740461</td>\n",
       "      <td>0.962334</td>\n",
       "      <td>0.047173</td>\n",
       "      <td>...</td>\n",
       "      <td>0.901375</td>\n",
       "      <td>0.493642</td>\n",
       "      <td>0.159613</td>\n",
       "      <td>0.021122</td>\n",
       "      <td>0.519121</td>\n",
       "      <td>0.246900</td>\n",
       "      <td>0.935889</td>\n",
       "      <td>0.410496</td>\n",
       "      <td>0.502423</td>\n",
       "      <td>0.755279</td>\n",
       "    </tr>\n",
       "    <tr>\n",
       "      <th>33</th>\n",
       "      <td>gpe</td>\n",
       "      <td>0.424940</td>\n",
       "      <td>0.164651</td>\n",
       "      <td>0.266385</td>\n",
       "      <td>0.042012</td>\n",
       "      <td>0.646555</td>\n",
       "      <td>0.656943</td>\n",
       "      <td>0.660327</td>\n",
       "      <td>0.089308</td>\n",
       "      <td>0.380769</td>\n",
       "      <td>...</td>\n",
       "      <td>0.253377</td>\n",
       "      <td>0.643725</td>\n",
       "      <td>0.652010</td>\n",
       "      <td>0.042818</td>\n",
       "      <td>0.214000</td>\n",
       "      <td>0.174143</td>\n",
       "      <td>0.849027</td>\n",
       "      <td>0.920639</td>\n",
       "      <td>0.332235</td>\n",
       "      <td>0.902812</td>\n",
       "    </tr>\n",
       "    <tr>\n",
       "      <th>34</th>\n",
       "      <td>art</td>\n",
       "      <td>0.437811</td>\n",
       "      <td>0.388870</td>\n",
       "      <td>0.101601</td>\n",
       "      <td>0.316574</td>\n",
       "      <td>0.356470</td>\n",
       "      <td>0.472651</td>\n",
       "      <td>0.431285</td>\n",
       "      <td>0.095944</td>\n",
       "      <td>0.946166</td>\n",
       "      <td>...</td>\n",
       "      <td>0.461968</td>\n",
       "      <td>0.607895</td>\n",
       "      <td>0.571685</td>\n",
       "      <td>0.954742</td>\n",
       "      <td>0.444607</td>\n",
       "      <td>0.273367</td>\n",
       "      <td>0.128956</td>\n",
       "      <td>0.839862</td>\n",
       "      <td>0.232387</td>\n",
       "      <td>0.325481</td>\n",
       "    </tr>\n",
       "    <tr>\n",
       "      <th>35</th>\n",
       "      <td>gpe</td>\n",
       "      <td>0.784067</td>\n",
       "      <td>0.321635</td>\n",
       "      <td>0.886488</td>\n",
       "      <td>0.583294</td>\n",
       "      <td>0.278362</td>\n",
       "      <td>0.409390</td>\n",
       "      <td>0.202212</td>\n",
       "      <td>0.547801</td>\n",
       "      <td>0.104460</td>\n",
       "      <td>...</td>\n",
       "      <td>0.001438</td>\n",
       "      <td>0.026397</td>\n",
       "      <td>0.429198</td>\n",
       "      <td>0.982991</td>\n",
       "      <td>0.561210</td>\n",
       "      <td>0.208418</td>\n",
       "      <td>0.850360</td>\n",
       "      <td>0.081889</td>\n",
       "      <td>0.399375</td>\n",
       "      <td>0.468848</td>\n",
       "    </tr>\n",
       "    <tr>\n",
       "      <th>36</th>\n",
       "      <td>per</td>\n",
       "      <td>0.363753</td>\n",
       "      <td>0.939449</td>\n",
       "      <td>0.275604</td>\n",
       "      <td>0.909111</td>\n",
       "      <td>0.802893</td>\n",
       "      <td>0.554637</td>\n",
       "      <td>0.473293</td>\n",
       "      <td>0.720027</td>\n",
       "      <td>0.189889</td>\n",
       "      <td>...</td>\n",
       "      <td>0.227516</td>\n",
       "      <td>0.566404</td>\n",
       "      <td>0.263727</td>\n",
       "      <td>0.166508</td>\n",
       "      <td>0.076625</td>\n",
       "      <td>0.639332</td>\n",
       "      <td>0.902450</td>\n",
       "      <td>0.274005</td>\n",
       "      <td>0.689475</td>\n",
       "      <td>0.063789</td>\n",
       "    </tr>\n",
       "    <tr>\n",
       "      <th>37</th>\n",
       "      <td>nat</td>\n",
       "      <td>0.975261</td>\n",
       "      <td>0.135123</td>\n",
       "      <td>0.462194</td>\n",
       "      <td>0.884495</td>\n",
       "      <td>0.888261</td>\n",
       "      <td>0.118295</td>\n",
       "      <td>0.746729</td>\n",
       "      <td>0.299175</td>\n",
       "      <td>0.782138</td>\n",
       "      <td>...</td>\n",
       "      <td>0.297885</td>\n",
       "      <td>0.610143</td>\n",
       "      <td>0.432627</td>\n",
       "      <td>0.310926</td>\n",
       "      <td>0.177553</td>\n",
       "      <td>0.328002</td>\n",
       "      <td>0.462124</td>\n",
       "      <td>0.667845</td>\n",
       "      <td>0.727526</td>\n",
       "      <td>0.089626</td>\n",
       "    </tr>\n",
       "    <tr>\n",
       "      <th>38</th>\n",
       "      <td>geo</td>\n",
       "      <td>0.977759</td>\n",
       "      <td>0.651408</td>\n",
       "      <td>0.446234</td>\n",
       "      <td>0.026643</td>\n",
       "      <td>0.983405</td>\n",
       "      <td>0.493848</td>\n",
       "      <td>0.300619</td>\n",
       "      <td>0.851083</td>\n",
       "      <td>0.316771</td>\n",
       "      <td>...</td>\n",
       "      <td>0.997131</td>\n",
       "      <td>0.740291</td>\n",
       "      <td>0.912737</td>\n",
       "      <td>0.066840</td>\n",
       "      <td>0.450495</td>\n",
       "      <td>0.366518</td>\n",
       "      <td>0.834774</td>\n",
       "      <td>0.765518</td>\n",
       "      <td>0.749806</td>\n",
       "      <td>0.996775</td>\n",
       "    </tr>\n",
       "    <tr>\n",
       "      <th>39</th>\n",
       "      <td>tim</td>\n",
       "      <td>0.724003</td>\n",
       "      <td>0.103612</td>\n",
       "      <td>0.713889</td>\n",
       "      <td>0.786483</td>\n",
       "      <td>0.447399</td>\n",
       "      <td>0.978433</td>\n",
       "      <td>0.597311</td>\n",
       "      <td>0.144021</td>\n",
       "      <td>0.235992</td>\n",
       "      <td>...</td>\n",
       "      <td>0.746798</td>\n",
       "      <td>0.170947</td>\n",
       "      <td>0.428097</td>\n",
       "      <td>0.927737</td>\n",
       "      <td>0.771630</td>\n",
       "      <td>0.458680</td>\n",
       "      <td>0.790257</td>\n",
       "      <td>0.733936</td>\n",
       "      <td>0.174198</td>\n",
       "      <td>0.431239</td>\n",
       "    </tr>\n",
       "  </tbody>\n",
       "</table>\n",
       "<p>20 rows × 3001 columns</p>\n",
       "</div>"
      ],
      "text/plain": [
       "   class         0         1         2         3         4         5  \\\n",
       "20   eve  0.655986  0.415185  0.059694  0.707719  0.322907  0.194757   \n",
       "21   nat  0.303020  0.621403  0.818070  0.583170  0.481382  0.134504   \n",
       "22   gpe  0.842124  0.947598  0.176131  0.880908  0.947319  0.989095   \n",
       "23   geo  0.738763  0.548412  0.324128  0.481976  0.907487  0.573559   \n",
       "24   geo  0.672174  0.462499  0.788121  0.937968  0.077253  0.912724   \n",
       "25   org  0.190210  0.396298  0.785996  0.305488  0.869708  0.045089   \n",
       "26   org  0.570826  0.530055  0.278830  0.731944  0.787163  0.202206   \n",
       "27   nat  0.480336  0.382422  0.490689  0.616319  0.315667  0.476534   \n",
       "28   org  0.176863  0.256072  0.391187  0.222540  0.085265  0.462145   \n",
       "29   gpe  0.637363  0.771508  0.856566  0.582754  0.858660  0.619299   \n",
       "30   art  0.914970  0.497317  0.585519  0.619994  0.833136  0.766630   \n",
       "31   org  0.980757  0.769809  0.763190  0.796980  0.087563  0.258236   \n",
       "32   per  0.462769  0.527578  0.275948  0.926038  0.622639  0.734470   \n",
       "33   gpe  0.424940  0.164651  0.266385  0.042012  0.646555  0.656943   \n",
       "34   art  0.437811  0.388870  0.101601  0.316574  0.356470  0.472651   \n",
       "35   gpe  0.784067  0.321635  0.886488  0.583294  0.278362  0.409390   \n",
       "36   per  0.363753  0.939449  0.275604  0.909111  0.802893  0.554637   \n",
       "37   nat  0.975261  0.135123  0.462194  0.884495  0.888261  0.118295   \n",
       "38   geo  0.977759  0.651408  0.446234  0.026643  0.983405  0.493848   \n",
       "39   tim  0.724003  0.103612  0.713889  0.786483  0.447399  0.978433   \n",
       "\n",
       "           6         7         8  ...      2990      2991      2992      2993  \\\n",
       "20  0.277327  0.895893  0.017205  ...  0.974347  0.858885  0.995533  0.372458   \n",
       "21  0.760761  0.556372  0.559527  ...  0.023771  0.696146  0.326242  0.861926   \n",
       "22  0.056913  0.599464  0.493132  ...  0.988192  0.923232  0.395368  0.273921   \n",
       "23  0.441798  0.568445  0.426464  ...  0.474025  0.337602  0.646068  0.611336   \n",
       "24  0.604421  0.520988  0.395650  ...  0.349827  0.121361  0.579793  0.424547   \n",
       "25  0.125519  0.671604  0.902194  ...  0.833199  0.630202  0.240270  0.084578   \n",
       "26  0.924931  0.592754  0.436697  ...  0.848131  0.314189  0.752178  0.656124   \n",
       "27  0.353519  0.719981  0.770045  ...  0.088550  0.939790  0.662498  0.578622   \n",
       "28  0.235633  0.639741  0.742303  ...  0.437307  0.301980  0.800389  0.707553   \n",
       "29  0.511857  0.655012  0.316246  ...  0.800751  0.477166  0.684987  0.625954   \n",
       "30  0.899499  0.893620  0.326748  ...  0.390385  0.192215  0.918509  0.936773   \n",
       "31  0.220665  0.316640  0.081058  ...  0.963949  0.990990  0.729944  0.103776   \n",
       "32  0.740461  0.962334  0.047173  ...  0.901375  0.493642  0.159613  0.021122   \n",
       "33  0.660327  0.089308  0.380769  ...  0.253377  0.643725  0.652010  0.042818   \n",
       "34  0.431285  0.095944  0.946166  ...  0.461968  0.607895  0.571685  0.954742   \n",
       "35  0.202212  0.547801  0.104460  ...  0.001438  0.026397  0.429198  0.982991   \n",
       "36  0.473293  0.720027  0.189889  ...  0.227516  0.566404  0.263727  0.166508   \n",
       "37  0.746729  0.299175  0.782138  ...  0.297885  0.610143  0.432627  0.310926   \n",
       "38  0.300619  0.851083  0.316771  ...  0.997131  0.740291  0.912737  0.066840   \n",
       "39  0.597311  0.144021  0.235992  ...  0.746798  0.170947  0.428097  0.927737   \n",
       "\n",
       "        2994      2995      2996      2997      2998      2999  \n",
       "20  0.687126  0.187404  0.434756  0.832648  0.287794  0.477700  \n",
       "21  0.268099  0.309540  0.724976  0.554450  0.737834  0.213573  \n",
       "22  0.160180  0.096286  0.807849  0.662150  0.631081  0.549078  \n",
       "23  0.139842  0.171521  0.560293  0.662646  0.948103  0.125349  \n",
       "24  0.284203  0.488576  0.021130  0.955238  0.425942  0.934088  \n",
       "25  0.083816  0.211891  0.745035  0.166060  0.050051  0.350905  \n",
       "26  0.576766  0.028159  0.692283  0.411886  0.787077  0.093095  \n",
       "27  0.440192  0.805044  0.918339  0.600827  0.212466  0.944630  \n",
       "28  0.107649  0.983342  0.048044  0.172435  0.980198  0.489569  \n",
       "29  0.715216  0.430617  0.683785  0.284774  0.612989  0.547428  \n",
       "30  0.041708  0.663974  0.692870  0.134851  0.393721  0.707659  \n",
       "31  0.156355  0.835742  0.140587  0.267371  0.267097  0.702214  \n",
       "32  0.519121  0.246900  0.935889  0.410496  0.502423  0.755279  \n",
       "33  0.214000  0.174143  0.849027  0.920639  0.332235  0.902812  \n",
       "34  0.444607  0.273367  0.128956  0.839862  0.232387  0.325481  \n",
       "35  0.561210  0.208418  0.850360  0.081889  0.399375  0.468848  \n",
       "36  0.076625  0.639332  0.902450  0.274005  0.689475  0.063789  \n",
       "37  0.177553  0.328002  0.462124  0.667845  0.727526  0.089626  \n",
       "38  0.450495  0.366518  0.834774  0.765518  0.749806  0.996775  \n",
       "39  0.771630  0.458680  0.790257  0.733936  0.174198  0.431239  \n",
       "\n",
       "[20 rows x 3001 columns]"
      ]
     },
     "execution_count": 6,
     "metadata": {},
     "output_type": "execute_result"
    }
   ],
   "source": [
    "bigdf = a2.create_table(instances)\n",
    "bigdf[20:40]"
   ]
  },
  {
   "cell_type": "code",
   "execution_count": 7,
   "metadata": {},
   "outputs": [
    {
     "data": {
      "text/plain": [
       "(array([[0.99636253, 0.7455104 , 0.72385553, ..., 0.03679133, 0.04820846,\n",
       "         0.66081946],\n",
       "        [0.39568598, 0.37229523, 0.17353789, ..., 0.00196175, 0.77350708,\n",
       "         0.3204305 ],\n",
       "        [0.11010834, 0.37748122, 0.18390218, ..., 0.09508813, 0.37348675,\n",
       "         0.60344735],\n",
       "        ...,\n",
       "        [0.01200433, 0.87604778, 0.77053487, ..., 0.11399781, 0.65884565,\n",
       "         0.33744048],\n",
       "        [0.07136329, 0.36089497, 0.62061408, ..., 0.40636414, 0.15702171,\n",
       "         0.09905803],\n",
       "        [0.17420434, 0.75884942, 0.88563346, ..., 0.70899009, 0.41493292,\n",
       "         0.4479619 ]]), 0     art\n",
       " 1     nat\n",
       " 2     org\n",
       " 3     eve\n",
       " 4     tim\n",
       "      ... \n",
       " 75    per\n",
       " 76    gpe\n",
       " 77    tim\n",
       " 78    gpe\n",
       " 79    geo\n",
       " Name: class, Length: 80, dtype: object, array([[0.55690157, 0.58498515, 0.43289855, ..., 0.70384379, 0.00780216,\n",
       "         0.26405441],\n",
       "        [0.90644824, 0.84436608, 0.16041137, ..., 0.24061262, 0.23453932,\n",
       "         0.19677123],\n",
       "        [0.20121931, 0.52836921, 0.18535695, ..., 0.42235482, 0.6764794 ,\n",
       "         0.27960766],\n",
       "        ...,\n",
       "        [0.54681602, 0.82723728, 0.37417014, ..., 0.42440261, 0.07761274,\n",
       "         0.83103311],\n",
       "        [0.98597481, 0.3514871 , 0.50102096, ..., 0.82744807, 0.01668719,\n",
       "         0.50362929],\n",
       "        [0.64302731, 0.01111527, 0.29148207, ..., 0.63633056, 0.91078511,\n",
       "         0.23783651]]), 0     per\n",
       " 1     art\n",
       " 2     art\n",
       " 3     eve\n",
       " 4     art\n",
       " 5     tim\n",
       " 6     geo\n",
       " 7     tim\n",
       " 8     org\n",
       " 9     art\n",
       " 10    per\n",
       " 11    art\n",
       " 12    org\n",
       " 13    nat\n",
       " 14    org\n",
       " 15    art\n",
       " 16    geo\n",
       " 17    org\n",
       " 18    art\n",
       " 19    art\n",
       " Name: class, dtype: object)"
      ]
     },
     "execution_count": 7,
     "metadata": {},
     "output_type": "execute_result"
    }
   ],
   "source": [
    "train_X, train_y, test_X, test_y = a2.ttsplit(bigdf)\n",
    "\n",
    "# X and y mean feature matrix and class respectively.\n",
    "train_X, train_y, test_X, test_y"
   ]
  },
  {
   "cell_type": "code",
   "execution_count": 8,
   "metadata": {},
   "outputs": [
    {
     "data": {
      "text/plain": [
       "0.2"
      ]
     },
     "execution_count": 8,
     "metadata": {},
     "output_type": "execute_result"
    }
   ],
   "source": [
    "len(test_y) / (len(test_y) + len(train_y))"
   ]
  },
  {
   "cell_type": "code",
   "execution_count": 9,
   "metadata": {},
   "outputs": [
    {
     "data": {
      "text/plain": [
       "0.2"
      ]
     },
     "execution_count": 9,
     "metadata": {},
     "output_type": "execute_result"
    }
   ],
   "source": [
    "len(test_X) / (len(test_X) + len(train_X))"
   ]
  },
  {
   "cell_type": "code",
   "execution_count": 10,
   "metadata": {},
   "outputs": [
    {
     "data": {
      "text/plain": [
       "'per'"
      ]
     },
     "execution_count": 10,
     "metadata": {},
     "output_type": "execute_result"
    }
   ],
   "source": [
    "test_y.iloc[0]"
   ]
  },
  {
   "cell_type": "markdown",
   "metadata": {},
   "source": [
    "## Part 4 - Training the model (0 points)"
   ]
  },
  {
   "cell_type": "markdown",
   "metadata": {},
   "source": [
    "This part you won't do yourself."
   ]
  },
  {
   "cell_type": "code",
   "execution_count": 11,
   "metadata": {},
   "outputs": [],
   "source": [
    "model = LinearSVC()\n",
    "model.fit(train_X, train_y)\n",
    "train_predictions = model.predict(train_X)\n",
    "test_predictions = model.predict(test_X)"
   ]
  },
  {
   "cell_type": "code",
   "execution_count": 12,
   "metadata": {},
   "outputs": [
    {
     "data": {
      "text/plain": [
       "array(['art', 'nat', 'org', 'eve', 'tim', 'gpe', 'art', 'per', 'org',\n",
       "       'eve', 'gpe', 'tim', 'geo', 'geo', 'nat', 'nat', 'gpe', 'org',\n",
       "       'nat', 'nat', 'nat', 'nat', 'per', 'tim', 'nat', 'per', 'per',\n",
       "       'org', 'eve', 'tim', 'org', 'geo', 'per', 'tim', 'geo', 'art',\n",
       "       'art', 'tim', 'gpe', 'gpe', 'per', 'org', 'eve', 'eve', 'geo',\n",
       "       'nat', 'eve', 'org', 'org', 'org', 'per', 'gpe', 'tim', 'tim',\n",
       "       'geo', 'tim', 'org', 'per', 'org', 'nat', 'art', 'eve', 'org',\n",
       "       'nat', 'per', 'tim', 'per', 'eve', 'per', 'art', 'geo', 'tim',\n",
       "       'geo', 'geo', 'eve', 'per', 'gpe', 'tim', 'gpe', 'geo'],\n",
       "      dtype=object)"
      ]
     },
     "execution_count": 12,
     "metadata": {},
     "output_type": "execute_result"
    }
   ],
   "source": [
    "train_predictions"
   ]
  },
  {
   "cell_type": "code",
   "execution_count": 13,
   "metadata": {},
   "outputs": [
    {
     "data": {
      "text/plain": [
       "0     art\n",
       "1     nat\n",
       "2     org\n",
       "3     eve\n",
       "4     tim\n",
       "     ... \n",
       "75    per\n",
       "76    gpe\n",
       "77    tim\n",
       "78    gpe\n",
       "79    geo\n",
       "Name: class, Length: 80, dtype: object"
      ]
     },
     "execution_count": 13,
     "metadata": {},
     "output_type": "execute_result"
    }
   ],
   "source": [
    "train_y"
   ]
  },
  {
   "cell_type": "code",
   "execution_count": 14,
   "metadata": {},
   "outputs": [
    {
     "data": {
      "text/plain": [
       "array(['org', 'geo', 'nat', 'per', 'eve', 'org', 'org', 'nat', 'nat',\n",
       "       'org', 'nat', 'org', 'per', 'tim', 'nat', 'tim', 'org', 'eve',\n",
       "       'nat', 'nat'], dtype=object)"
      ]
     },
     "execution_count": 14,
     "metadata": {},
     "output_type": "execute_result"
    }
   ],
   "source": [
    "test_predictions"
   ]
  },
  {
   "cell_type": "code",
   "execution_count": 15,
   "metadata": {},
   "outputs": [
    {
     "data": {
      "text/plain": [
       "0     per\n",
       "1     art\n",
       "2     art\n",
       "3     eve\n",
       "4     art\n",
       "5     tim\n",
       "6     geo\n",
       "7     tim\n",
       "8     org\n",
       "9     art\n",
       "10    per\n",
       "11    art\n",
       "12    org\n",
       "13    nat\n",
       "14    org\n",
       "15    art\n",
       "16    geo\n",
       "17    org\n",
       "18    art\n",
       "19    art\n",
       "Name: class, dtype: object"
      ]
     },
     "execution_count": 15,
     "metadata": {},
     "output_type": "execute_result"
    }
   ],
   "source": [
    "test_y"
   ]
  },
  {
   "cell_type": "markdown",
   "metadata": {},
   "source": [
    "## Part 5 - Evaluation (5 points)"
   ]
  },
  {
   "cell_type": "markdown",
   "metadata": {},
   "source": [
    "Investigate for yourself what a \"confusion matrix\".  Then implement a function that takes the data and produces a confusion matrix in any readable form that allows us to compare the performance of the model by class.  "
   ]
  },
  {
   "cell_type": "code",
   "execution_count": 16,
   "metadata": {},
   "outputs": [
    {
     "name": "stdout",
     "output_type": "stream",
     "text": [
      "I'm confusing.\n"
     ]
    },
    {
     "data": {
      "text/plain": [
       "\"I'm confused.\""
      ]
     },
     "execution_count": 16,
     "metadata": {},
     "output_type": "execute_result"
    }
   ],
   "source": [
    "a2.confusion_matrix(test_y, test_predictions)"
   ]
  },
  {
   "cell_type": "code",
   "execution_count": 17,
   "metadata": {},
   "outputs": [
    {
     "name": "stdout",
     "output_type": "stream",
     "text": [
      "I'm confusing.\n"
     ]
    },
    {
     "data": {
      "text/plain": [
       "\"I'm confused.\""
      ]
     },
     "execution_count": 17,
     "metadata": {},
     "output_type": "execute_result"
    }
   ],
   "source": [
    "a2.confusion_matrix(train_y, train_predictions)"
   ]
  },
  {
   "cell_type": "markdown",
   "metadata": {},
   "source": [
    "Examine the matrix and describe your observations in README.md.  In particular, what do you notice about the predictions on the training data compared to those on the test data."
   ]
  },
  {
   "cell_type": "markdown",
   "metadata": {},
   "source": [
    "## Bonus Part A - Error analysis (2 points)"
   ]
  },
  {
   "cell_type": "markdown",
   "metadata": {},
   "source": [
    "Look at the weakest-performing classes in the confusion matrix (or any, if they all perform poorly to the same extent).  Find some examples in the test data on which the classifier classified incorrectly for those classes.  What do you think is the reason why those are hard?  Consider linguistic factors and statistical factors, if applicable.  Write your answer in README.md."
   ]
  },
  {
   "cell_type": "markdown",
   "metadata": {},
   "source": [
    "## Bonus Part B - Expanding the feature space (7 points)"
   ]
  },
  {
   "cell_type": "markdown",
   "metadata": {},
   "source": [
    "Run the entire process above, but incorporate part-of-speech tag information into the feature vectors.  It's your choice as to how to do this, but document it in README.md.  Your new process should run from the single call below:"
   ]
  },
  {
   "cell_type": "code",
   "execution_count": 18,
   "metadata": {},
   "outputs": [],
   "source": [
    "a2.bonusb('/scratch/lt2222-v21-resources/GMB_dataset.txt')"
   ]
  }
 ],
 "metadata": {
  "kernelspec": {
   "display_name": "Python 3",
   "language": "python",
   "name": "python3"
  },
  "language_info": {
   "codemirror_mode": {
    "name": "ipython",
    "version": 3
   },
   "file_extension": ".py",
   "mimetype": "text/x-python",
   "name": "python",
   "nbconvert_exporter": "python",
   "pygments_lexer": "ipython3",
   "version": "3.7.4"
  }
 },
 "nbformat": 4,
 "nbformat_minor": 2
}
